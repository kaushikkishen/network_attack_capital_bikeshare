{
 "cells": [
  {
   "cell_type": "code",
   "execution_count": 1,
   "metadata": {},
   "outputs": [],
   "source": [
    "import numpy as np\n",
    "import pandas as pd \n",
    "import igraph as ig\n",
    "import timeit\n",
    "from network_tolerance_ig import *"
   ]
  },
  {
   "cell_type": "code",
   "execution_count": 2,
   "metadata": {},
   "outputs": [],
   "source": [
    "df = pd.read_csv('./Renamed Data/Capital-bikeshare-2022.csv',\n",
    "                 index_col=0)\n",
    "#Instantiates CreateGraph class from network_tolerance_ig\n",
    "cg = CreateGraph()\n",
    "#Perform groupbys in the data and outputs processed df\n",
    "processed = cg.preprocess(df)\n",
    "#Create graph from processed df\n",
    "G = cg.create_network(processed, directed=True)"
   ]
  },
  {
   "cell_type": "code",
   "execution_count": 3,
   "metadata": {},
   "outputs": [
    {
     "name": "stdout",
     "output_type": "stream",
     "text": [
      "(119221, 13)\n",
      "IGRAPH DNW- 709 119221 -- \n",
      "+ attr: name (v), casual_count (e), end_station_name (e), end_year (e), ended_at (e), member_count (e), name (e), start_station_name (e), start_year (e), started_at (e), travel_time_in_sec (e), weight (e)\n"
     ]
    }
   ],
   "source": [
    "print(processed.shape)\n",
    "print(G.summary())"
   ]
  },
  {
   "cell_type": "code",
   "execution_count": 4,
   "metadata": {},
   "outputs": [
    {
     "data": {
      "text/html": [
       "<div>\n",
       "<style scoped>\n",
       "    .dataframe tbody tr th:only-of-type {\n",
       "        vertical-align: middle;\n",
       "    }\n",
       "\n",
       "    .dataframe tbody tr th {\n",
       "        vertical-align: top;\n",
       "    }\n",
       "\n",
       "    .dataframe thead th {\n",
       "        text-align: right;\n",
       "    }\n",
       "</style>\n",
       "<table border=\"1\" class=\"dataframe\">\n",
       "  <thead>\n",
       "    <tr style=\"text-align: right;\">\n",
       "      <th></th>\n",
       "      <th>f</th>\n",
       "      <th>f_count</th>\n",
       "      <th>diameter</th>\n",
       "    </tr>\n",
       "  </thead>\n",
       "  <tbody>\n",
       "    <tr>\n",
       "      <th>0</th>\n",
       "      <td>0.009873</td>\n",
       "      <td>7</td>\n",
       "      <td>6</td>\n",
       "    </tr>\n",
       "    <tr>\n",
       "      <th>1</th>\n",
       "      <td>0.019746</td>\n",
       "      <td>14</td>\n",
       "      <td>6</td>\n",
       "    </tr>\n",
       "    <tr>\n",
       "      <th>2</th>\n",
       "      <td>0.029619</td>\n",
       "      <td>21</td>\n",
       "      <td>6</td>\n",
       "    </tr>\n",
       "    <tr>\n",
       "      <th>3</th>\n",
       "      <td>0.039492</td>\n",
       "      <td>28</td>\n",
       "      <td>6</td>\n",
       "    </tr>\n",
       "    <tr>\n",
       "      <th>4</th>\n",
       "      <td>0.049365</td>\n",
       "      <td>35</td>\n",
       "      <td>6</td>\n",
       "    </tr>\n",
       "  </tbody>\n",
       "</table>\n",
       "</div>"
      ],
      "text/plain": [
       "          f  f_count  diameter\n",
       "0  0.009873        7         6\n",
       "1  0.019746       14         6\n",
       "2  0.029619       21         6\n",
       "3  0.039492       28         6\n",
       "4  0.049365       35         6"
      ]
     },
     "execution_count": 4,
     "metadata": {},
     "output_type": "execute_result"
    }
   ],
   "source": [
    "G1 = G.copy()\n",
    "tolerance1 = GraphTolerance(G1)\n",
    "rf_df_1 = tolerance1.random_fail()\n",
    "rf_df_1"
   ]
  },
  {
   "cell_type": "code",
   "execution_count": 5,
   "metadata": {},
   "outputs": [
    {
     "data": {
      "text/html": [
       "<div>\n",
       "<style scoped>\n",
       "    .dataframe tbody tr th:only-of-type {\n",
       "        vertical-align: middle;\n",
       "    }\n",
       "\n",
       "    .dataframe tbody tr th {\n",
       "        vertical-align: top;\n",
       "    }\n",
       "\n",
       "    .dataframe thead th {\n",
       "        text-align: right;\n",
       "    }\n",
       "</style>\n",
       "<table border=\"1\" class=\"dataframe\">\n",
       "  <thead>\n",
       "    <tr style=\"text-align: right;\">\n",
       "      <th></th>\n",
       "      <th>f</th>\n",
       "      <th>f_count</th>\n",
       "      <th>diameter</th>\n",
       "    </tr>\n",
       "  </thead>\n",
       "  <tbody>\n",
       "    <tr>\n",
       "      <th>0</th>\n",
       "      <td>0.009873</td>\n",
       "      <td>7</td>\n",
       "      <td>6</td>\n",
       "    </tr>\n",
       "    <tr>\n",
       "      <th>1</th>\n",
       "      <td>0.019746</td>\n",
       "      <td>14</td>\n",
       "      <td>6</td>\n",
       "    </tr>\n",
       "    <tr>\n",
       "      <th>2</th>\n",
       "      <td>0.029619</td>\n",
       "      <td>21</td>\n",
       "      <td>6</td>\n",
       "    </tr>\n",
       "    <tr>\n",
       "      <th>3</th>\n",
       "      <td>0.039492</td>\n",
       "      <td>28</td>\n",
       "      <td>6</td>\n",
       "    </tr>\n",
       "    <tr>\n",
       "      <th>4</th>\n",
       "      <td>0.049365</td>\n",
       "      <td>35</td>\n",
       "      <td>6</td>\n",
       "    </tr>\n",
       "  </tbody>\n",
       "</table>\n",
       "</div>"
      ],
      "text/plain": [
       "          f  f_count  diameter\n",
       "0  0.009873        7         6\n",
       "1  0.019746       14         6\n",
       "2  0.029619       21         6\n",
       "3  0.039492       28         6\n",
       "4  0.049365       35         6"
      ]
     },
     "execution_count": 5,
     "metadata": {},
     "output_type": "execute_result"
    }
   ],
   "source": [
    "G2 = G.copy()\n",
    "tolerance2 = GraphTolerance(G2)\n",
    "rf_df_2 = tolerance2.target_attack()\n",
    "rf_df_2"
   ]
  },
  {
   "cell_type": "code",
   "execution_count": 6,
   "metadata": {},
   "outputs": [],
   "source": [
    "#Measures to monitor as we delete nodes. Measures MUST BE a list or tuple\n",
    "measures = ['maxdegree', 'diameter', 'average_path_length']\n",
    "#parameters for each measure as a dictionary\n",
    "measure_params = [{'loops': True , 'mode':'all'},\\\n",
    "          {'directed':True}]\n"
   ]
  },
  {
   "cell_type": "code",
   "execution_count": 7,
   "metadata": {},
   "outputs": [
    {
     "data": {
      "text/html": [
       "<div>\n",
       "<style scoped>\n",
       "    .dataframe tbody tr th:only-of-type {\n",
       "        vertical-align: middle;\n",
       "    }\n",
       "\n",
       "    .dataframe tbody tr th {\n",
       "        vertical-align: top;\n",
       "    }\n",
       "\n",
       "    .dataframe thead th {\n",
       "        text-align: right;\n",
       "    }\n",
       "</style>\n",
       "<table border=\"1\" class=\"dataframe\">\n",
       "  <thead>\n",
       "    <tr style=\"text-align: right;\">\n",
       "      <th></th>\n",
       "      <th>f</th>\n",
       "      <th>f_count</th>\n",
       "      <th>maxdegree</th>\n",
       "      <th>diameter</th>\n",
       "      <th>average_path_length</th>\n",
       "    </tr>\n",
       "  </thead>\n",
       "  <tbody>\n",
       "    <tr>\n",
       "      <th>0</th>\n",
       "      <td>0.009873</td>\n",
       "      <td>7</td>\n",
       "      <td>828</td>\n",
       "      <td>6</td>\n",
       "      <td>2.008260</td>\n",
       "    </tr>\n",
       "    <tr>\n",
       "      <th>1</th>\n",
       "      <td>0.019746</td>\n",
       "      <td>14</td>\n",
       "      <td>817</td>\n",
       "      <td>6</td>\n",
       "      <td>2.011357</td>\n",
       "    </tr>\n",
       "    <tr>\n",
       "      <th>2</th>\n",
       "      <td>0.029619</td>\n",
       "      <td>21</td>\n",
       "      <td>806</td>\n",
       "      <td>6</td>\n",
       "      <td>2.013964</td>\n",
       "    </tr>\n",
       "    <tr>\n",
       "      <th>3</th>\n",
       "      <td>0.039492</td>\n",
       "      <td>28</td>\n",
       "      <td>799</td>\n",
       "      <td>6</td>\n",
       "      <td>2.013835</td>\n",
       "    </tr>\n",
       "    <tr>\n",
       "      <th>4</th>\n",
       "      <td>0.049365</td>\n",
       "      <td>35</td>\n",
       "      <td>792</td>\n",
       "      <td>6</td>\n",
       "      <td>2.017877</td>\n",
       "    </tr>\n",
       "  </tbody>\n",
       "</table>\n",
       "</div>"
      ],
      "text/plain": [
       "          f  f_count  maxdegree  diameter  average_path_length\n",
       "0  0.009873        7        828         6             2.008260\n",
       "1  0.019746       14        817         6             2.011357\n",
       "2  0.029619       21        806         6             2.013964\n",
       "3  0.039492       28        799         6             2.013835\n",
       "4  0.049365       35        792         6             2.017877"
      ]
     },
     "execution_count": 7,
     "metadata": {},
     "output_type": "execute_result"
    }
   ],
   "source": [
    "#Implement 10% random node deletion\n",
    "#Steps indicate minimum datapoints to be recorded as deleted nodes approach 10%\n",
    "G1 = G.copy()\n",
    "tolerance1 = GraphTolerance(G1)\n",
    "rf_df_1 = tolerance1.random_fail(f=0.05, steps= 5, \n",
    "                         graph_measures=measures,\n",
    "                         measure_params=measure_params)\n",
    "rf_df_1"
   ]
  },
  {
   "cell_type": "code",
   "execution_count": 8,
   "metadata": {},
   "outputs": [
    {
     "data": {
      "text/html": [
       "<div>\n",
       "<style scoped>\n",
       "    .dataframe tbody tr th:only-of-type {\n",
       "        vertical-align: middle;\n",
       "    }\n",
       "\n",
       "    .dataframe tbody tr th {\n",
       "        vertical-align: top;\n",
       "    }\n",
       "\n",
       "    .dataframe thead th {\n",
       "        text-align: right;\n",
       "    }\n",
       "</style>\n",
       "<table border=\"1\" class=\"dataframe\">\n",
       "  <thead>\n",
       "    <tr style=\"text-align: right;\">\n",
       "      <th></th>\n",
       "      <th>f</th>\n",
       "      <th>f_count</th>\n",
       "      <th>maxdegree</th>\n",
       "      <th>diameter</th>\n",
       "      <th>average_path_length</th>\n",
       "    </tr>\n",
       "  </thead>\n",
       "  <tbody>\n",
       "    <tr>\n",
       "      <th>0</th>\n",
       "      <td>0.009873</td>\n",
       "      <td>7</td>\n",
       "      <td>826</td>\n",
       "      <td>6</td>\n",
       "      <td>2.028005</td>\n",
       "    </tr>\n",
       "    <tr>\n",
       "      <th>1</th>\n",
       "      <td>0.019746</td>\n",
       "      <td>14</td>\n",
       "      <td>790</td>\n",
       "      <td>6</td>\n",
       "      <td>2.042240</td>\n",
       "    </tr>\n",
       "    <tr>\n",
       "      <th>2</th>\n",
       "      <td>0.029619</td>\n",
       "      <td>21</td>\n",
       "      <td>769</td>\n",
       "      <td>6</td>\n",
       "      <td>2.064842</td>\n",
       "    </tr>\n",
       "    <tr>\n",
       "      <th>3</th>\n",
       "      <td>0.039492</td>\n",
       "      <td>28</td>\n",
       "      <td>727</td>\n",
       "      <td>6</td>\n",
       "      <td>2.082647</td>\n",
       "    </tr>\n",
       "    <tr>\n",
       "      <th>4</th>\n",
       "      <td>0.049365</td>\n",
       "      <td>35</td>\n",
       "      <td>716</td>\n",
       "      <td>7</td>\n",
       "      <td>2.106809</td>\n",
       "    </tr>\n",
       "  </tbody>\n",
       "</table>\n",
       "</div>"
      ],
      "text/plain": [
       "          f  f_count  maxdegree  diameter  average_path_length\n",
       "0  0.009873        7        826         6             2.028005\n",
       "1  0.019746       14        790         6             2.042240\n",
       "2  0.029619       21        769         6             2.064842\n",
       "3  0.039492       28        727         6             2.082647\n",
       "4  0.049365       35        716         7             2.106809"
      ]
     },
     "execution_count": 8,
     "metadata": {},
     "output_type": "execute_result"
    }
   ],
   "source": [
    "#Implement targeted attack by deleting the top 10% nodes by degree\n",
    "#Steps indicate minimum datapoints to be recorded as deleted nodes approach  10%\n",
    "\n",
    "#Centrality measure to do targeted attack\n",
    "G2 = G.copy()\n",
    "tolerance2 = GraphTolerance(G2)\n",
    "centrality = 'betweenness'\n",
    "centrality_params = {'directed':True}\n",
    "\n",
    "rf_df_2 = tolerance2.target_attack(f=0.05, centrality=centrality, \n",
    "                                   centrality_params = centrality_params,\\\n",
    "                                    steps= 5, \n",
    "                         graph_measures=measures,\n",
    "                         measure_params=measure_params)\n",
    "rf_df_2"
   ]
  },
  {
   "cell_type": "code",
   "execution_count": 9,
   "metadata": {},
   "outputs": [
    {
     "name": "stdout",
     "output_type": "stream",
     "text": [
      "IGRAPH DNW- 709 119221 -- \n",
      "+ attr: name (v), casual_count (e), end_station_name (e), end_year (e), ended_at (e), member_count (e), name (e), start_station_name (e), start_year (e), started_at (e), travel_time_in_sec (e), weight (e)\n",
      "IGRAPH DNW- 674 107014 -- \n",
      "+ attr: name (v), casual_count (e), end_station_name (e), end_year (e), ended_at (e), member_count (e), name (e), start_station_name (e), start_year (e), started_at (e), travel_time_in_sec (e), weight (e)\n",
      "IGRAPH DNW- 674 100840 -- \n",
      "+ attr: name (v), casual_count (e), end_station_name (e), end_year (e), ended_at (e), member_count (e), name (e), start_station_name (e), start_year (e), started_at (e), travel_time_in_sec (e), weight (e)\n"
     ]
    }
   ],
   "source": [
    "print(G.summary())\n",
    "print(G1.summary())\n",
    "print(G2.summary())"
   ]
  },
  {
   "cell_type": "code",
   "execution_count": null,
   "metadata": {},
   "outputs": [],
   "source": []
  }
 ],
 "metadata": {
  "kernelspec": {
   "display_name": "Python 3 (ipykernel)",
   "language": "python",
   "name": "python3"
  },
  "language_info": {
   "codemirror_mode": {
    "name": "ipython",
    "version": 3
   },
   "file_extension": ".py",
   "mimetype": "text/x-python",
   "name": "python",
   "nbconvert_exporter": "python",
   "pygments_lexer": "ipython3",
   "version": "3.10.8"
  },
  "vscode": {
   "interpreter": {
    "hash": "8c65260020534be36c59e78b50f3fabc39cc556965b618d725b2251d68f15d3d"
   }
  }
 },
 "nbformat": 4,
 "nbformat_minor": 2
}
