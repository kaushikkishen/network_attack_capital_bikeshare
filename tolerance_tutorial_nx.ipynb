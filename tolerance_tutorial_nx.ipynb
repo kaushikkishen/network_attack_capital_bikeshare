{
 "cells": [
  {
   "cell_type": "code",
   "execution_count": 1,
   "metadata": {},
   "outputs": [],
   "source": [
    "import numpy as np\n",
    "import pandas as pd\n",
    "import time\n",
    "from datetime import timedelta\n",
    "import networkx as nx\n",
    "import matplotlib.pyplot as plt\n",
    "import collections\n",
    "import random\n",
    "from network_tolerance_nx import *"
   ]
  },
  {
   "cell_type": "code",
   "execution_count": 2,
   "metadata": {},
   "outputs": [
    {
     "data": {
      "text/html": [
       "<div>\n",
       "<style scoped>\n",
       "    .dataframe tbody tr th:only-of-type {\n",
       "        vertical-align: middle;\n",
       "    }\n",
       "\n",
       "    .dataframe tbody tr th {\n",
       "        vertical-align: top;\n",
       "    }\n",
       "\n",
       "    .dataframe thead th {\n",
       "        text-align: right;\n",
       "    }\n",
       "</style>\n",
       "<table border=\"1\" class=\"dataframe\">\n",
       "  <thead>\n",
       "    <tr style=\"text-align: right;\">\n",
       "      <th></th>\n",
       "      <th>Unnamed: 0</th>\n",
       "      <th>ride_id</th>\n",
       "      <th>rideable_type</th>\n",
       "      <th>started_at</th>\n",
       "      <th>ended_at</th>\n",
       "      <th>start_station_name</th>\n",
       "      <th>start_station_id</th>\n",
       "      <th>end_station_name</th>\n",
       "      <th>end_station_id</th>\n",
       "      <th>start_lat</th>\n",
       "      <th>start_lng</th>\n",
       "      <th>end_lat</th>\n",
       "      <th>end_lng</th>\n",
       "      <th>member_casual</th>\n",
       "    </tr>\n",
       "  </thead>\n",
       "  <tbody>\n",
       "    <tr>\n",
       "      <th>0</th>\n",
       "      <td>0</td>\n",
       "      <td>1B4445D591115BD9</td>\n",
       "      <td>classic_bike</td>\n",
       "      <td>2022-01-06 18:39:28</td>\n",
       "      <td>2022-01-06 18:43:03</td>\n",
       "      <td>Monroe Ave &amp; Leslie Ave</td>\n",
       "      <td>31087.0</td>\n",
       "      <td>Potomac Ave &amp; Main Line Blvd</td>\n",
       "      <td>31910.0</td>\n",
       "      <td>38.820932</td>\n",
       "      <td>-77.053096</td>\n",
       "      <td>38.822738</td>\n",
       "      <td>-77.049265</td>\n",
       "      <td>member</td>\n",
       "    </tr>\n",
       "    <tr>\n",
       "      <th>1</th>\n",
       "      <td>1</td>\n",
       "      <td>7F4A0E2F03EADEB7</td>\n",
       "      <td>classic_bike</td>\n",
       "      <td>2022-01-31 19:21:22</td>\n",
       "      <td>2022-01-31 19:27:33</td>\n",
       "      <td>14th &amp; L St NW</td>\n",
       "      <td>31283.0</td>\n",
       "      <td>10th &amp; G St NW</td>\n",
       "      <td>31274.0</td>\n",
       "      <td>38.903658</td>\n",
       "      <td>-77.031737</td>\n",
       "      <td>38.898243</td>\n",
       "      <td>-77.026235</td>\n",
       "      <td>member</td>\n",
       "    </tr>\n",
       "    <tr>\n",
       "      <th>2</th>\n",
       "      <td>2</td>\n",
       "      <td>30DD8A84164843AD</td>\n",
       "      <td>classic_bike</td>\n",
       "      <td>2022-01-07 15:28:39</td>\n",
       "      <td>2022-01-07 15:31:01</td>\n",
       "      <td>14th &amp; L St NW</td>\n",
       "      <td>31283.0</td>\n",
       "      <td>12th &amp; L St NW</td>\n",
       "      <td>31251.0</td>\n",
       "      <td>38.903658</td>\n",
       "      <td>-77.031737</td>\n",
       "      <td>38.903819</td>\n",
       "      <td>-77.028400</td>\n",
       "      <td>member</td>\n",
       "    </tr>\n",
       "    <tr>\n",
       "      <th>3</th>\n",
       "      <td>3</td>\n",
       "      <td>FC67665D7682D0A6</td>\n",
       "      <td>classic_bike</td>\n",
       "      <td>2022-01-27 20:09:25</td>\n",
       "      <td>2022-01-27 20:37:02</td>\n",
       "      <td>New York Ave &amp; Hecht Ave NE</td>\n",
       "      <td>31518.0</td>\n",
       "      <td>Nannie Helen Burroughs &amp; Minnesota Ave NE</td>\n",
       "      <td>31704.0</td>\n",
       "      <td>38.915604</td>\n",
       "      <td>-76.983683</td>\n",
       "      <td>38.901385</td>\n",
       "      <td>-76.941877</td>\n",
       "      <td>casual</td>\n",
       "    </tr>\n",
       "    <tr>\n",
       "      <th>4</th>\n",
       "      <td>4</td>\n",
       "      <td>7854F7CC4F631A1E</td>\n",
       "      <td>classic_bike</td>\n",
       "      <td>2022-01-07 16:14:28</td>\n",
       "      <td>2022-01-07 16:16:13</td>\n",
       "      <td>Falls Church City Hall / Park Ave &amp; Little Fal...</td>\n",
       "      <td>32608.0</td>\n",
       "      <td>Pennsylvania Ave &amp; Park Ave</td>\n",
       "      <td>32603.0</td>\n",
       "      <td>38.885434</td>\n",
       "      <td>-77.173605</td>\n",
       "      <td>38.887403</td>\n",
       "      <td>-77.176992</td>\n",
       "      <td>member</td>\n",
       "    </tr>\n",
       "  </tbody>\n",
       "</table>\n",
       "</div>"
      ],
      "text/plain": [
       "   Unnamed: 0           ride_id rideable_type           started_at  \\\n",
       "0           0  1B4445D591115BD9  classic_bike  2022-01-06 18:39:28   \n",
       "1           1  7F4A0E2F03EADEB7  classic_bike  2022-01-31 19:21:22   \n",
       "2           2  30DD8A84164843AD  classic_bike  2022-01-07 15:28:39   \n",
       "3           3  FC67665D7682D0A6  classic_bike  2022-01-27 20:09:25   \n",
       "4           4  7854F7CC4F631A1E  classic_bike  2022-01-07 16:14:28   \n",
       "\n",
       "              ended_at                                 start_station_name  \\\n",
       "0  2022-01-06 18:43:03                            Monroe Ave & Leslie Ave   \n",
       "1  2022-01-31 19:27:33                                     14th & L St NW   \n",
       "2  2022-01-07 15:31:01                                     14th & L St NW   \n",
       "3  2022-01-27 20:37:02                        New York Ave & Hecht Ave NE   \n",
       "4  2022-01-07 16:16:13  Falls Church City Hall / Park Ave & Little Fal...   \n",
       "\n",
       "   start_station_id                           end_station_name  \\\n",
       "0           31087.0               Potomac Ave & Main Line Blvd   \n",
       "1           31283.0                             10th & G St NW   \n",
       "2           31283.0                             12th & L St NW   \n",
       "3           31518.0  Nannie Helen Burroughs & Minnesota Ave NE   \n",
       "4           32608.0                Pennsylvania Ave & Park Ave   \n",
       "\n",
       "   end_station_id  start_lat  start_lng    end_lat    end_lng member_casual  \n",
       "0         31910.0  38.820932 -77.053096  38.822738 -77.049265        member  \n",
       "1         31274.0  38.903658 -77.031737  38.898243 -77.026235        member  \n",
       "2         31251.0  38.903658 -77.031737  38.903819 -77.028400        member  \n",
       "3         31704.0  38.915604 -76.983683  38.901385 -76.941877        casual  \n",
       "4         32603.0  38.885434 -77.173605  38.887403 -77.176992        member  "
      ]
     },
     "execution_count": 2,
     "metadata": {},
     "output_type": "execute_result"
    }
   ],
   "source": [
    "unprocesseddf2022 = pd.read_csv('./Renamed Data/Capital-bikeshare-2022.csv')\n",
    "unprocesseddf2022.head()"
   ]
  },
  {
   "cell_type": "code",
   "execution_count": 3,
   "metadata": {},
   "outputs": [],
   "source": [
    "#Instantiates CreateGraph class from network_tolerance_nx\n",
    "network = CreateGraph()\n"
   ]
  },
  {
   "cell_type": "code",
   "execution_count": 4,
   "metadata": {},
   "outputs": [],
   "source": [
    "#Preprocesses data\n",
    "df = network.preprocess_df(unprocesseddf2022)\n",
    "#Creates network from preprocessed data\n",
    "G = network.create_network(df)"
   ]
  },
  {
   "cell_type": "code",
   "execution_count": 20,
   "metadata": {},
   "outputs": [
    {
     "name": "stdout",
     "output_type": "stream",
     "text": [
      "(3253406, 14)\n",
      "(119221, 13)\n"
     ]
    }
   ],
   "source": [
    "print(unprocesseddf2022.shape)\n",
    "print(df.shape)"
   ]
  },
  {
   "cell_type": "code",
   "execution_count": 5,
   "metadata": {},
   "outputs": [],
   "source": [
    "# Create two graph objects for each node deletion method\n",
    "# Node deletion: random failure and targeted attack\n",
    "G1 = G.copy()\n",
    "G2 = G.copy()"
   ]
  },
  {
   "cell_type": "code",
   "execution_count": 6,
   "metadata": {},
   "outputs": [
    {
     "name": "stdout",
     "output_type": "stream",
     "text": [
      "Number of nodes: 709\n",
      "Number of edges: 119221\n",
      "Network density: 0.23750527917891834\n",
      "Triadic closure: 0.6932699773435235\n",
      "Number of nodes: 709\n",
      "Number of edges: 119221\n",
      "Network density: 0.23750527917891834\n",
      "Triadic closure: 0.6932699773435235\n"
     ]
    }
   ],
   "source": [
    "print(\"Number of nodes:\", G1.number_of_nodes())\n",
    "print(\"Number of edges:\", G2.number_of_edges())\n",
    "density = nx.density(G)\n",
    "print(\"Network density:\", density)\n",
    "triadic_closure = nx.transitivity(G)\n",
    "print(\"Triadic closure:\", triadic_closure)\n",
    "\n",
    "print(\"Number of nodes:\", G2.number_of_nodes())\n",
    "print(\"Number of edges:\", G2.number_of_edges())\n",
    "density = nx.density(G2)\n",
    "print(\"Network density:\", density)\n",
    "triadic_closure = nx.transitivity(G2)\n",
    "print(\"Triadic closure:\", triadic_closure)"
   ]
  },
  {
   "cell_type": "code",
   "execution_count": 7,
   "metadata": {},
   "outputs": [
    {
     "data": {
      "text/plain": [
       "True"
      ]
     },
     "execution_count": 7,
     "metadata": {},
     "output_type": "execute_result"
    }
   ],
   "source": [
    "nx.is_weighted(G)"
   ]
  },
  {
   "cell_type": "code",
   "execution_count": 8,
   "metadata": {},
   "outputs": [],
   "source": [
    "# Custom measures to workaround NetworkX errors and non-existent built-in functions \n",
    "def max_diameter(G):\n",
    "    max_diameter = 0\n",
    "    scc = nx.strongly_connected_components(G)\n",
    "    for component in scc:\n",
    "        subgraph = G.subgraph(component)\n",
    "        if nx.is_strongly_connected(subgraph):\n",
    "            eccentricity = nx.eccentricity(subgraph)\n",
    "            diameter = nx.diameter(subgraph, e=eccentricity)\n",
    "            if diameter > max_diameter:\n",
    "                max_diameter = diameter\n",
    "        else:\n",
    "            wcc = nx.weakly_connected_components(subgraph)\n",
    "            diameters = []\n",
    "            for wcc_component in wcc:\n",
    "                wcc_subgraph = subgraph.subgraph(wcc_component)\n",
    "                eccentricity = nx.eccentricity(wcc_subgraph)\n",
    "                diameter = nx.diameter(wcc_subgraph, e=eccentricity)\n",
    "                diameters.append(diameter)\n",
    "            if diameters:\n",
    "                component_max_diameter = max(diameters)\n",
    "                if component_max_diameter > max_diameter:\n",
    "                    max_diameter = component_max_diameter\n",
    "    return max_diameter\n",
    "\n",
    "def max_degree(G):\n",
    "    degrees = dict(G.degree())\n",
    "    max_degree = max(degrees.values())\n",
    "\n",
    "    return max_degree\n"
   ]
  },
  {
   "cell_type": "code",
   "execution_count": 9,
   "metadata": {},
   "outputs": [],
   "source": [
    "\n",
    "#Measures to monitor as we delete nodes. Measures MUST BE a list or tuple\n",
    "#Custom measures MUST be a dictionary\n",
    "graph_measures = ['average_shortest_path_length']\n",
    "measure_params = [{'weight': None}]\n",
    "custom_funcs = {'diameter': max_diameter, 'maxdegree': max_degree}"
   ]
  },
  {
   "cell_type": "code",
   "execution_count": 10,
   "metadata": {},
   "outputs": [
    {
     "data": {
      "text/html": [
       "<div>\n",
       "<style scoped>\n",
       "    .dataframe tbody tr th:only-of-type {\n",
       "        vertical-align: middle;\n",
       "    }\n",
       "\n",
       "    .dataframe tbody tr th {\n",
       "        vertical-align: top;\n",
       "    }\n",
       "\n",
       "    .dataframe thead th {\n",
       "        text-align: right;\n",
       "    }\n",
       "</style>\n",
       "<table border=\"1\" class=\"dataframe\">\n",
       "  <thead>\n",
       "    <tr style=\"text-align: right;\">\n",
       "      <th></th>\n",
       "      <th>f</th>\n",
       "      <th>f_count</th>\n",
       "      <th>average_shortest_path_length</th>\n",
       "      <th>diameter</th>\n",
       "      <th>maxdegree</th>\n",
       "    </tr>\n",
       "  </thead>\n",
       "  <tbody>\n",
       "    <tr>\n",
       "      <th>0</th>\n",
       "      <td>0.009873</td>\n",
       "      <td>7</td>\n",
       "      <td>2.010451</td>\n",
       "      <td>6</td>\n",
       "      <td>825</td>\n",
       "    </tr>\n",
       "    <tr>\n",
       "      <th>1</th>\n",
       "      <td>0.019746</td>\n",
       "      <td>14</td>\n",
       "      <td>2.011745</td>\n",
       "      <td>6</td>\n",
       "      <td>818</td>\n",
       "    </tr>\n",
       "    <tr>\n",
       "      <th>2</th>\n",
       "      <td>0.029619</td>\n",
       "      <td>21</td>\n",
       "      <td>2.010991</td>\n",
       "      <td>6</td>\n",
       "      <td>813</td>\n",
       "    </tr>\n",
       "    <tr>\n",
       "      <th>3</th>\n",
       "      <td>0.039492</td>\n",
       "      <td>28</td>\n",
       "      <td>2.013268</td>\n",
       "      <td>6</td>\n",
       "      <td>804</td>\n",
       "    </tr>\n",
       "    <tr>\n",
       "      <th>4</th>\n",
       "      <td>0.049365</td>\n",
       "      <td>35</td>\n",
       "      <td>2.010990</td>\n",
       "      <td>6</td>\n",
       "      <td>797</td>\n",
       "    </tr>\n",
       "  </tbody>\n",
       "</table>\n",
       "</div>"
      ],
      "text/plain": [
       "          f  f_count  average_shortest_path_length  diameter  maxdegree\n",
       "0  0.009873        7                      2.010451         6        825\n",
       "1  0.019746       14                      2.011745         6        818\n",
       "2  0.029619       21                      2.010991         6        813\n",
       "3  0.039492       28                      2.013268         6        804\n",
       "4  0.049365       35                      2.010990         6        797"
      ]
     },
     "execution_count": 10,
     "metadata": {},
     "output_type": "execute_result"
    }
   ],
   "source": [
    "#Implement 5% random node deletion\n",
    "#Steps indicate minimum datapoints to be recorded as deleted nodes approach 5%\n",
    "G1 = G.copy()\n",
    "tolerance1 = GraphTolerance(G1)\n",
    "random_fail = tolerance1.random_fail(f=0.05, steps= 5, \n",
    "                         graph_measures=graph_measures,\\\n",
    "                         measure_params=measure_params,\\\n",
    "                         custom_measures=custom_funcs)\n",
    "random_fail"
   ]
  },
  {
   "cell_type": "code",
   "execution_count": 11,
   "metadata": {},
   "outputs": [
    {
     "data": {
      "text/html": [
       "<div>\n",
       "<style scoped>\n",
       "    .dataframe tbody tr th:only-of-type {\n",
       "        vertical-align: middle;\n",
       "    }\n",
       "\n",
       "    .dataframe tbody tr th {\n",
       "        vertical-align: top;\n",
       "    }\n",
       "\n",
       "    .dataframe thead th {\n",
       "        text-align: right;\n",
       "    }\n",
       "</style>\n",
       "<table border=\"1\" class=\"dataframe\">\n",
       "  <thead>\n",
       "    <tr style=\"text-align: right;\">\n",
       "      <th></th>\n",
       "      <th>f</th>\n",
       "      <th>f_count</th>\n",
       "      <th>average_shortest_path_length</th>\n",
       "      <th>diameter</th>\n",
       "      <th>maxdegree</th>\n",
       "    </tr>\n",
       "  </thead>\n",
       "  <tbody>\n",
       "    <tr>\n",
       "      <th>0</th>\n",
       "      <td>0.009873</td>\n",
       "      <td>7</td>\n",
       "      <td>2.020632</td>\n",
       "      <td>6</td>\n",
       "      <td>759</td>\n",
       "    </tr>\n",
       "    <tr>\n",
       "      <th>1</th>\n",
       "      <td>0.019746</td>\n",
       "      <td>14</td>\n",
       "      <td>2.038781</td>\n",
       "      <td>6</td>\n",
       "      <td>723</td>\n",
       "    </tr>\n",
       "    <tr>\n",
       "      <th>2</th>\n",
       "      <td>0.029619</td>\n",
       "      <td>21</td>\n",
       "      <td>2.052122</td>\n",
       "      <td>6</td>\n",
       "      <td>685</td>\n",
       "    </tr>\n",
       "    <tr>\n",
       "      <th>3</th>\n",
       "      <td>0.039492</td>\n",
       "      <td>28</td>\n",
       "      <td>2.064792</td>\n",
       "      <td>6</td>\n",
       "      <td>665</td>\n",
       "    </tr>\n",
       "    <tr>\n",
       "      <th>4</th>\n",
       "      <td>0.049365</td>\n",
       "      <td>35</td>\n",
       "      <td>2.077921</td>\n",
       "      <td>6</td>\n",
       "      <td>641</td>\n",
       "    </tr>\n",
       "  </tbody>\n",
       "</table>\n",
       "</div>"
      ],
      "text/plain": [
       "          f  f_count  average_shortest_path_length  diameter  maxdegree\n",
       "0  0.009873        7                      2.020632         6        759\n",
       "1  0.019746       14                      2.038781         6        723\n",
       "2  0.029619       21                      2.052122         6        685\n",
       "3  0.039492       28                      2.064792         6        665\n",
       "4  0.049365       35                      2.077921         6        641"
      ]
     },
     "execution_count": 11,
     "metadata": {},
     "output_type": "execute_result"
    }
   ],
   "source": [
    "#Implement 5% targeted attack deletion\n",
    "\n",
    "G2 = G.copy()\n",
    "tolerance2 = GraphTolerance(G2)\n",
    "centrality = 'degree' #nx function\n",
    "centrality_params = {'weight':None}\n",
    "target_attack = tolerance2.target_attack(f=0.05, centrality=centrality, \n",
    "                                   centrality_params = centrality_params,\\\n",
    "                                    steps= 5, \n",
    "                         graph_measures=graph_measures,\\\n",
    "                         measure_params=measure_params,\\\n",
    "                         custom_measures=custom_funcs)\n",
    "target_attack"
   ]
  },
  {
   "cell_type": "code",
   "execution_count": 14,
   "metadata": {},
   "outputs": [
    {
     "data": {
      "text/plain": [
       "True"
      ]
     },
     "execution_count": 14,
     "metadata": {},
     "output_type": "execute_result"
    }
   ],
   "source": [
    "nx.is_weakly_connected(G2)\n"
   ]
  },
  {
   "cell_type": "code",
   "execution_count": null,
   "metadata": {},
   "outputs": [],
   "source": []
  }
 ],
 "metadata": {
  "kernelspec": {
   "display_name": "network",
   "language": "python",
   "name": "python3"
  },
  "language_info": {
   "codemirror_mode": {
    "name": "ipython",
    "version": 3
   },
   "file_extension": ".py",
   "mimetype": "text/x-python",
   "name": "python",
   "nbconvert_exporter": "python",
   "pygments_lexer": "ipython3",
   "version": "3.10.8"
  },
  "orig_nbformat": 4,
  "vscode": {
   "interpreter": {
    "hash": "8c65260020534be36c59e78b50f3fabc39cc556965b618d725b2251d68f15d3d"
   }
  }
 },
 "nbformat": 4,
 "nbformat_minor": 2
}
